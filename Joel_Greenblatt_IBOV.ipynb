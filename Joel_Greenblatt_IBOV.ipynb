{
  "nbformat": 4,
  "nbformat_minor": 0,
  "metadata": {
    "colab": {
      "provenance": [],
      "collapsed_sections": []
    },
    "kernelspec": {
      "name": "python3",
      "display_name": "Python 3"
    },
    "language_info": {
      "name": "python"
    }
  },
  "cells": [
    {
      "cell_type": "markdown",
      "source": [
        "# **Instalando bibliotecas**"
      ],
      "metadata": {
        "id": "8OUciUN5HfEI"
      }
    },
    {
      "cell_type": "code",
      "source": [
        "#!pip install fundamentus\n",
        "#!pip install yfinance"
      ],
      "metadata": {
        "id": "zPQnc5rXXUBi"
      },
      "execution_count": 4,
      "outputs": []
    },
    {
      "cell_type": "markdown",
      "source": [
        "# **Importando bibliotecas**"
      ],
      "metadata": {
        "id": "Bq_alGfnHotZ"
      }
    },
    {
      "cell_type": "code",
      "execution_count": 5,
      "metadata": {
        "id": "c7i7rIhK7OqZ"
      },
      "outputs": [],
      "source": [
        "import pandas as pd\n",
        "import fundamentus\n",
        "import numpy as np\n",
        "import yfinance as yf"
      ]
    },
    {
      "cell_type": "markdown",
      "source": [
        "# **Filtrando as informações conforme a formula de Greenblatt**\n",
        "\n",
        "## Regras necessárias:\n",
        "\n",
        "- `EV/EBIT > 0` (Não pode ser negativo)\n",
        "- `ROIC > 0` (Não pode ser negativo)\n",
        "- `Dividend Yield > 0` (Adaptação ao mercado brasileiro)\n",
        "- `Liquidez > R$: 200.000,00` (Média de liquidez ao nível Brasil)"
      ],
      "metadata": {
        "id": "4plfiTJsH2uH"
      }
    },
    {
      "cell_type": "code",
      "source": [
        "#Exibindo o dataframe conforme o site Fundamentus\n",
        "df = fundamentus.get_resultado()\n",
        "\n",
        "#Filtrando conforme aplicado pela formula\n",
        "filtro = df[(df.evebit > 0) & (df.roic > 0) & (df.dy > 0) & (df.liq2m > 200000)]"
      ],
      "metadata": {
        "id": "Y2tJ7xcQ7zp-"
      },
      "execution_count": 6,
      "outputs": []
    },
    {
      "cell_type": "markdown",
      "source": [
        "# **Rankeando as informações**"
      ],
      "metadata": {
        "id": "QVW1g1FjLnqD"
      }
    },
    {
      "cell_type": "code",
      "source": [
        "#Criando o dataframe\n",
        "df = pd.DataFrame()\n",
        "\n",
        "#Criando um range que vá de 1 até o número de ativos existentes no filtro\n",
        "df['POS'] = range(1, 194)\n",
        "\n",
        "#EV/EBIT - do menor para o maior\n",
        "df['EV/EBIT'] = filtro.sort_values(by=['evebit']).index[:194].values\n",
        "\n",
        "#ROIC & DY - do maior para o menor\n",
        "df['ROIC'] = filtro.sort_values(by=['roic'], ascending=False).index[:194].values\n",
        "df['DY'] = filtro.sort_values(by=['dy'], ascending=False).index[:194].values"
      ],
      "metadata": {
        "id": "nLaX8Wer80tx"
      },
      "execution_count": 7,
      "outputs": []
    },
    {
      "cell_type": "markdown",
      "source": [
        "# **Criando uma tabela com a somatória conforme as posições**"
      ],
      "metadata": {
        "id": "q3AEsdi2Ou2n"
      }
    },
    {
      "cell_type": "code",
      "source": [
        "a = df.pivot_table(columns='EV/EBIT', values='POS')\n",
        "b = df.pivot_table(columns='ROIC', values='POS')\n",
        "c = df.pivot_table(columns='DY', values='POS')\n",
        "t = pd.concat([a, b])\n",
        "rank = t.dropna(axis=1).sum()\n",
        "dataframe = pd.DataFrame(rank.sort_values()[:30])"
      ],
      "metadata": {
        "id": "assELOYAO2qm"
      },
      "execution_count": 8,
      "outputs": []
    },
    {
      "cell_type": "markdown",
      "source": [
        "# **Definindo uma function que busque os setores das empresas do dataframe**"
      ],
      "metadata": {
        "id": "S4cnr12dQaJv"
      }
    },
    {
      "cell_type": "code",
      "source": [
        "def GetSetor(NomeDoAtivo):\n",
        "  setor = yf.Ticker(NomeDoAtivo)\n",
        "  return setor.info['sector']"
      ],
      "metadata": {
        "id": "2CaYgGXuUG__"
      },
      "execution_count": 9,
      "outputs": []
    },
    {
      "cell_type": "markdown",
      "source": [
        "# **Buscando os dados de setores dos ativos**"
      ],
      "metadata": {
        "id": "zUqT5Uw7RtgA"
      }
    },
    {
      "cell_type": "code",
      "source": [
        "tickers = dataframe.index + '.SA'\n",
        "DicSetor = {}\n",
        "for tick in tickers:\n",
        "  try:\n",
        "    print('Coletando Dados no Setor do Ativo:', tick)\n",
        "    DicSetor[tick] = GetSetor(tick)\n",
        "  except:\n",
        "    print('Informação não encontrada no Ativo:', tick)\n",
        "    DicSetor[tick] = 'N.A'"
      ],
      "metadata": {
        "id": "STAY8UD3U19D",
        "colab": {
          "base_uri": "https://localhost:8080/"
        },
        "outputId": "265c321a-a1af-4311-c2ec-cd28f2b175d5"
      },
      "execution_count": 10,
      "outputs": [
        {
          "output_type": "stream",
          "name": "stdout",
          "text": [
            "Coletando Dados no Setor do Ativo: PSSA3.SA\n",
            "Coletando Dados no Setor do Ativo: BRBI11.SA\n",
            "Informação não encontrada no Ativo: BRBI11.SA\n",
            "Coletando Dados no Setor do Ativo: SYNE3.SA\n",
            "Coletando Dados no Setor do Ativo: TASA3.SA\n",
            "Coletando Dados no Setor do Ativo: TASA4.SA\n",
            "Coletando Dados no Setor do Ativo: GOAU3.SA\n",
            "Coletando Dados no Setor do Ativo: PETR4.SA\n",
            "Coletando Dados no Setor do Ativo: GOAU4.SA\n",
            "Coletando Dados no Setor do Ativo: PETR3.SA\n",
            "Coletando Dados no Setor do Ativo: UNIP3.SA\n",
            "Coletando Dados no Setor do Ativo: GGBR3.SA\n",
            "Coletando Dados no Setor do Ativo: FESA4.SA\n",
            "Coletando Dados no Setor do Ativo: GGBR4.SA\n",
            "Coletando Dados no Setor do Ativo: UNIP6.SA\n",
            "Coletando Dados no Setor do Ativo: KEPL3.SA\n",
            "Coletando Dados no Setor do Ativo: VALE3.SA\n",
            "Coletando Dados no Setor do Ativo: PLPL3.SA\n",
            "Coletando Dados no Setor do Ativo: AURA33.SA\n",
            "Coletando Dados no Setor do Ativo: WIZS3.SA\n",
            "Coletando Dados no Setor do Ativo: BRKM5.SA\n",
            "Coletando Dados no Setor do Ativo: LVTC3.SA\n",
            "Coletando Dados no Setor do Ativo: CAMB3.SA\n",
            "Coletando Dados no Setor do Ativo: BRKM3.SA\n",
            "Coletando Dados no Setor do Ativo: USIM5.SA\n",
            "Coletando Dados no Setor do Ativo: CMIN3.SA\n",
            "Coletando Dados no Setor do Ativo: USIM3.SA\n",
            "Coletando Dados no Setor do Ativo: ETER3.SA\n",
            "Coletando Dados no Setor do Ativo: ENAT3.SA\n",
            "Coletando Dados no Setor do Ativo: CCRO3.SA\n",
            "Coletando Dados no Setor do Ativo: RANI3.SA\n"
          ]
        }
      ]
    },
    {
      "cell_type": "code",
      "source": [
        "AtivosSetorDF = pd.DataFrame.from_dict(DicSetor, orient='index').reset_index()\n",
        "AtivosSetorDF.columns = ['Papel', 'Setor']\n",
        "\n",
        "AtivosSetorDF"
      ],
      "metadata": {
        "colab": {
          "base_uri": "https://localhost:8080/",
          "height": 990
        },
        "id": "bt-pIujwhwff",
        "outputId": "e785daca-89d6-4f5a-beeb-607d3a29a25d"
      },
      "execution_count": 13,
      "outputs": [
        {
          "output_type": "execute_result",
          "data": {
            "text/plain": [
              "        Papel                   Setor\n",
              "0    PSSA3.SA      Financial Services\n",
              "1   BRBI11.SA                     N.A\n",
              "2    SYNE3.SA             Real Estate\n",
              "3    TASA3.SA             Industrials\n",
              "4    TASA4.SA             Industrials\n",
              "5    GOAU3.SA         Basic Materials\n",
              "6    PETR4.SA                  Energy\n",
              "7    GOAU4.SA         Basic Materials\n",
              "8    PETR3.SA                  Energy\n",
              "9    UNIP3.SA         Basic Materials\n",
              "10   GGBR3.SA         Basic Materials\n",
              "11   FESA4.SA         Basic Materials\n",
              "12   GGBR4.SA         Basic Materials\n",
              "13   UNIP6.SA         Basic Materials\n",
              "14   KEPL3.SA             Industrials\n",
              "15   VALE3.SA         Basic Materials\n",
              "16   PLPL3.SA             Real Estate\n",
              "17  AURA33.SA         Basic Materials\n",
              "18   WIZS3.SA      Financial Services\n",
              "19   BRKM5.SA         Basic Materials\n",
              "20   LVTC3.SA  Communication Services\n",
              "21   CAMB3.SA       Consumer Cyclical\n",
              "22   BRKM3.SA         Basic Materials\n",
              "23   USIM5.SA         Basic Materials\n",
              "24   CMIN3.SA         Basic Materials\n",
              "25   USIM3.SA         Basic Materials\n",
              "26   ETER3.SA             Industrials\n",
              "27   ENAT3.SA                  Energy\n",
              "28   CCRO3.SA             Industrials\n",
              "29   RANI3.SA       Consumer Cyclical"
            ],
            "text/html": [
              "\n",
              "  <div id=\"df-103e9cd3-dc03-471e-8393-86d7ee1f8ace\">\n",
              "    <div class=\"colab-df-container\">\n",
              "      <div>\n",
              "<style scoped>\n",
              "    .dataframe tbody tr th:only-of-type {\n",
              "        vertical-align: middle;\n",
              "    }\n",
              "\n",
              "    .dataframe tbody tr th {\n",
              "        vertical-align: top;\n",
              "    }\n",
              "\n",
              "    .dataframe thead th {\n",
              "        text-align: right;\n",
              "    }\n",
              "</style>\n",
              "<table border=\"1\" class=\"dataframe\">\n",
              "  <thead>\n",
              "    <tr style=\"text-align: right;\">\n",
              "      <th></th>\n",
              "      <th>Papel</th>\n",
              "      <th>Setor</th>\n",
              "    </tr>\n",
              "  </thead>\n",
              "  <tbody>\n",
              "    <tr>\n",
              "      <th>0</th>\n",
              "      <td>PSSA3.SA</td>\n",
              "      <td>Financial Services</td>\n",
              "    </tr>\n",
              "    <tr>\n",
              "      <th>1</th>\n",
              "      <td>BRBI11.SA</td>\n",
              "      <td>N.A</td>\n",
              "    </tr>\n",
              "    <tr>\n",
              "      <th>2</th>\n",
              "      <td>SYNE3.SA</td>\n",
              "      <td>Real Estate</td>\n",
              "    </tr>\n",
              "    <tr>\n",
              "      <th>3</th>\n",
              "      <td>TASA3.SA</td>\n",
              "      <td>Industrials</td>\n",
              "    </tr>\n",
              "    <tr>\n",
              "      <th>4</th>\n",
              "      <td>TASA4.SA</td>\n",
              "      <td>Industrials</td>\n",
              "    </tr>\n",
              "    <tr>\n",
              "      <th>5</th>\n",
              "      <td>GOAU3.SA</td>\n",
              "      <td>Basic Materials</td>\n",
              "    </tr>\n",
              "    <tr>\n",
              "      <th>6</th>\n",
              "      <td>PETR4.SA</td>\n",
              "      <td>Energy</td>\n",
              "    </tr>\n",
              "    <tr>\n",
              "      <th>7</th>\n",
              "      <td>GOAU4.SA</td>\n",
              "      <td>Basic Materials</td>\n",
              "    </tr>\n",
              "    <tr>\n",
              "      <th>8</th>\n",
              "      <td>PETR3.SA</td>\n",
              "      <td>Energy</td>\n",
              "    </tr>\n",
              "    <tr>\n",
              "      <th>9</th>\n",
              "      <td>UNIP3.SA</td>\n",
              "      <td>Basic Materials</td>\n",
              "    </tr>\n",
              "    <tr>\n",
              "      <th>10</th>\n",
              "      <td>GGBR3.SA</td>\n",
              "      <td>Basic Materials</td>\n",
              "    </tr>\n",
              "    <tr>\n",
              "      <th>11</th>\n",
              "      <td>FESA4.SA</td>\n",
              "      <td>Basic Materials</td>\n",
              "    </tr>\n",
              "    <tr>\n",
              "      <th>12</th>\n",
              "      <td>GGBR4.SA</td>\n",
              "      <td>Basic Materials</td>\n",
              "    </tr>\n",
              "    <tr>\n",
              "      <th>13</th>\n",
              "      <td>UNIP6.SA</td>\n",
              "      <td>Basic Materials</td>\n",
              "    </tr>\n",
              "    <tr>\n",
              "      <th>14</th>\n",
              "      <td>KEPL3.SA</td>\n",
              "      <td>Industrials</td>\n",
              "    </tr>\n",
              "    <tr>\n",
              "      <th>15</th>\n",
              "      <td>VALE3.SA</td>\n",
              "      <td>Basic Materials</td>\n",
              "    </tr>\n",
              "    <tr>\n",
              "      <th>16</th>\n",
              "      <td>PLPL3.SA</td>\n",
              "      <td>Real Estate</td>\n",
              "    </tr>\n",
              "    <tr>\n",
              "      <th>17</th>\n",
              "      <td>AURA33.SA</td>\n",
              "      <td>Basic Materials</td>\n",
              "    </tr>\n",
              "    <tr>\n",
              "      <th>18</th>\n",
              "      <td>WIZS3.SA</td>\n",
              "      <td>Financial Services</td>\n",
              "    </tr>\n",
              "    <tr>\n",
              "      <th>19</th>\n",
              "      <td>BRKM5.SA</td>\n",
              "      <td>Basic Materials</td>\n",
              "    </tr>\n",
              "    <tr>\n",
              "      <th>20</th>\n",
              "      <td>LVTC3.SA</td>\n",
              "      <td>Communication Services</td>\n",
              "    </tr>\n",
              "    <tr>\n",
              "      <th>21</th>\n",
              "      <td>CAMB3.SA</td>\n",
              "      <td>Consumer Cyclical</td>\n",
              "    </tr>\n",
              "    <tr>\n",
              "      <th>22</th>\n",
              "      <td>BRKM3.SA</td>\n",
              "      <td>Basic Materials</td>\n",
              "    </tr>\n",
              "    <tr>\n",
              "      <th>23</th>\n",
              "      <td>USIM5.SA</td>\n",
              "      <td>Basic Materials</td>\n",
              "    </tr>\n",
              "    <tr>\n",
              "      <th>24</th>\n",
              "      <td>CMIN3.SA</td>\n",
              "      <td>Basic Materials</td>\n",
              "    </tr>\n",
              "    <tr>\n",
              "      <th>25</th>\n",
              "      <td>USIM3.SA</td>\n",
              "      <td>Basic Materials</td>\n",
              "    </tr>\n",
              "    <tr>\n",
              "      <th>26</th>\n",
              "      <td>ETER3.SA</td>\n",
              "      <td>Industrials</td>\n",
              "    </tr>\n",
              "    <tr>\n",
              "      <th>27</th>\n",
              "      <td>ENAT3.SA</td>\n",
              "      <td>Energy</td>\n",
              "    </tr>\n",
              "    <tr>\n",
              "      <th>28</th>\n",
              "      <td>CCRO3.SA</td>\n",
              "      <td>Industrials</td>\n",
              "    </tr>\n",
              "    <tr>\n",
              "      <th>29</th>\n",
              "      <td>RANI3.SA</td>\n",
              "      <td>Consumer Cyclical</td>\n",
              "    </tr>\n",
              "  </tbody>\n",
              "</table>\n",
              "</div>\n",
              "      <button class=\"colab-df-convert\" onclick=\"convertToInteractive('df-103e9cd3-dc03-471e-8393-86d7ee1f8ace')\"\n",
              "              title=\"Convert this dataframe to an interactive table.\"\n",
              "              style=\"display:none;\">\n",
              "        \n",
              "  <svg xmlns=\"http://www.w3.org/2000/svg\" height=\"24px\"viewBox=\"0 0 24 24\"\n",
              "       width=\"24px\">\n",
              "    <path d=\"M0 0h24v24H0V0z\" fill=\"none\"/>\n",
              "    <path d=\"M18.56 5.44l.94 2.06.94-2.06 2.06-.94-2.06-.94-.94-2.06-.94 2.06-2.06.94zm-11 1L8.5 8.5l.94-2.06 2.06-.94-2.06-.94L8.5 2.5l-.94 2.06-2.06.94zm10 10l.94 2.06.94-2.06 2.06-.94-2.06-.94-.94-2.06-.94 2.06-2.06.94z\"/><path d=\"M17.41 7.96l-1.37-1.37c-.4-.4-.92-.59-1.43-.59-.52 0-1.04.2-1.43.59L10.3 9.45l-7.72 7.72c-.78.78-.78 2.05 0 2.83L4 21.41c.39.39.9.59 1.41.59.51 0 1.02-.2 1.41-.59l7.78-7.78 2.81-2.81c.8-.78.8-2.07 0-2.86zM5.41 20L4 18.59l7.72-7.72 1.47 1.35L5.41 20z\"/>\n",
              "  </svg>\n",
              "      </button>\n",
              "      \n",
              "  <style>\n",
              "    .colab-df-container {\n",
              "      display:flex;\n",
              "      flex-wrap:wrap;\n",
              "      gap: 12px;\n",
              "    }\n",
              "\n",
              "    .colab-df-convert {\n",
              "      background-color: #E8F0FE;\n",
              "      border: none;\n",
              "      border-radius: 50%;\n",
              "      cursor: pointer;\n",
              "      display: none;\n",
              "      fill: #1967D2;\n",
              "      height: 32px;\n",
              "      padding: 0 0 0 0;\n",
              "      width: 32px;\n",
              "    }\n",
              "\n",
              "    .colab-df-convert:hover {\n",
              "      background-color: #E2EBFA;\n",
              "      box-shadow: 0px 1px 2px rgba(60, 64, 67, 0.3), 0px 1px 3px 1px rgba(60, 64, 67, 0.15);\n",
              "      fill: #174EA6;\n",
              "    }\n",
              "\n",
              "    [theme=dark] .colab-df-convert {\n",
              "      background-color: #3B4455;\n",
              "      fill: #D2E3FC;\n",
              "    }\n",
              "\n",
              "    [theme=dark] .colab-df-convert:hover {\n",
              "      background-color: #434B5C;\n",
              "      box-shadow: 0px 1px 3px 1px rgba(0, 0, 0, 0.15);\n",
              "      filter: drop-shadow(0px 1px 2px rgba(0, 0, 0, 0.3));\n",
              "      fill: #FFFFFF;\n",
              "    }\n",
              "  </style>\n",
              "\n",
              "      <script>\n",
              "        const buttonEl =\n",
              "          document.querySelector('#df-103e9cd3-dc03-471e-8393-86d7ee1f8ace button.colab-df-convert');\n",
              "        buttonEl.style.display =\n",
              "          google.colab.kernel.accessAllowed ? 'block' : 'none';\n",
              "\n",
              "        async function convertToInteractive(key) {\n",
              "          const element = document.querySelector('#df-103e9cd3-dc03-471e-8393-86d7ee1f8ace');\n",
              "          const dataTable =\n",
              "            await google.colab.kernel.invokeFunction('convertToInteractive',\n",
              "                                                     [key], {});\n",
              "          if (!dataTable) return;\n",
              "\n",
              "          const docLinkHtml = 'Like what you see? Visit the ' +\n",
              "            '<a target=\"_blank\" href=https://colab.research.google.com/notebooks/data_table.ipynb>data table notebook</a>'\n",
              "            + ' to learn more about interactive tables.';\n",
              "          element.innerHTML = '';\n",
              "          dataTable['output_type'] = 'display_data';\n",
              "          await google.colab.output.renderOutput(dataTable, element);\n",
              "          const docLink = document.createElement('div');\n",
              "          docLink.innerHTML = docLinkHtml;\n",
              "          element.appendChild(docLink);\n",
              "        }\n",
              "      </script>\n",
              "    </div>\n",
              "  </div>\n",
              "  "
            ]
          },
          "metadata": {},
          "execution_count": 13
        }
      ]
    }
  ]
}